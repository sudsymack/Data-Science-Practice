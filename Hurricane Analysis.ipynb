{
 "cells": [
  {
   "cell_type": "code",
   "execution_count": 3,
   "metadata": {},
   "outputs": [],
   "source": [
    "# names of hurricanes\n",
    "names = ['Cuba I', 'San Felipe II Okeechobee', 'Bahamas', 'Cuba II', 'CubaBrownsville', 'Tampico', 'Labor Day', 'New England', 'Carol', 'Janet', 'Carla', 'Hattie', 'Beulah', 'Camille', 'Edith', 'Anita', 'David', 'Allen', 'Gilbert', 'Hugo', 'Andrew', 'Mitch', 'Isabel', 'Ivan', 'Emily', 'Katrina', 'Rita', 'Wilma', 'Dean', 'Felix', 'Matthew', 'Irma', 'Maria', 'Michael']\n"
   ]
  },
  {
   "cell_type": "code",
   "execution_count": 4,
   "metadata": {},
   "outputs": [],
   "source": [
    "# months of hurricanes\n",
    "months = ['October', 'September', 'September', 'November', 'August', 'September', 'September', 'September', 'September', 'September', 'September', 'October', 'September', 'August', 'September', 'September', 'August', 'August', 'September', 'September', 'August', 'October', 'September', 'September', 'July', 'August', 'September', 'October', 'August', 'September', 'October', 'September', 'September', 'October']\n"
   ]
  },
  {
   "cell_type": "code",
   "execution_count": 5,
   "metadata": {},
   "outputs": [],
   "source": [
    "# years of hurricanes\n",
    "years = [1924, 1928, 1932, 1932, 1933, 1933, 1935, 1938, 1953, 1955, 1961, 1961, 1967, 1969, 1971, 1977, 1979, 1980, 1988, 1989, 1992, 1998, 2003, 2004, 2005, 2005, 2005, 2005, 2007, 2007, 2016, 2017, 2017, 2018]\n"
   ]
  },
  {
   "cell_type": "code",
   "execution_count": 6,
   "metadata": {},
   "outputs": [],
   "source": [
    "# maximum sustained winds (mph) of hurricanes\n",
    "max_sustained_winds = [165, 160, 160, 175, 160, 160, 185, 160, 160, 175, 175, 160, 160, 175, 160, 175, 175, 190, 185, 160, 175, 180, 165, 165, 160, 175, 180, 185, 175, 175, 165, 180, 175, 160]"
   ]
  },
  {
   "cell_type": "code",
   "execution_count": 7,
   "metadata": {},
   "outputs": [],
   "source": [
    "# areas affected by each hurricane\n",
    "areas_affected = [['Central America', 'Mexico', 'Cuba', 'Florida', 'The Bahamas'], ['Lesser Antilles', 'The Bahamas', 'United States East Coast', 'Atlantic Canada'], ['The Bahamas', 'Northeastern United States'], ['Lesser Antilles', 'Jamaica', 'Cayman Islands', 'Cuba', 'The Bahamas', 'Bermuda'], ['The Bahamas', 'Cuba', 'Florida', 'Texas', 'Tamaulipas'], ['Jamaica', 'Yucatn Peninsula'], ['The Bahamas', 'Florida', 'Georgia', 'The Carolinas', 'Virginia'], ['Southeastern United States', 'Northeastern United States', 'Southwestern Quebec'], ['Bermuda', 'New England', 'Atlantic Canada'], ['Lesser Antilles', 'Central America'], ['Texas', 'Louisiana', 'Midwestern United States'], ['Central America'], ['The Caribbean', 'Mexico', 'Texas'], ['Cuba', 'United States Gulf Coast'], ['The Caribbean', 'Central America', 'Mexico', 'United States Gulf Coast'], ['Mexico'], ['The Caribbean', 'United States East coast'], ['The Caribbean', 'Yucatn Peninsula', 'Mexico', 'South Texas'], ['Jamaica', 'Venezuela', 'Central America', 'Hispaniola', 'Mexico'], ['The Caribbean', 'United States East Coast'], ['The Bahamas', 'Florida', 'United States Gulf Coast'], ['Central America', 'Yucatn Peninsula', 'South Florida'], ['Greater Antilles', 'Bahamas', 'Eastern United States', 'Ontario'], ['The Caribbean', 'Venezuela', 'United States Gulf Coast'], ['Windward Islands', 'Jamaica', 'Mexico', 'Texas'], ['Bahamas', 'United States Gulf Coast'], ['Cuba', 'United States Gulf Coast'], ['Greater Antilles', 'Central America', 'Florida'], ['The Caribbean', 'Central America'], ['Nicaragua', 'Honduras'], ['Antilles', 'Venezuela', 'Colombia', 'United States East Coast', 'Atlantic Canada'], ['Cape Verde', 'The Caribbean', 'British Virgin Islands', 'U.S. Virgin Islands', 'Cuba', 'Florida'], ['Lesser Antilles', 'Virgin Islands', 'Puerto Rico', 'Dominican Republic', 'Turks and Caicos Islands'], ['Central America', 'United States Gulf Coast (especially Florida Panhandle)']]"
   ]
  },
  {
   "cell_type": "code",
   "execution_count": 8,
   "metadata": {},
   "outputs": [],
   "source": [
    "# damages (USD($)) of hurricanes\n",
    "damages = ['Damages not recorded', '100M', 'Damages not recorded', '40M', '27.9M', '5M', 'Damages not recorded', '306M', '2M', '65.8M', '326M', '60.3M', '208M', '1.42B', '25.4M', 'Damages not recorded', '1.54B', '1.24B', '7.1B', '10B', '26.5B', '6.2B', '5.37B', '23.3B', '1.01B', '125B', '12B', '29.4B', '1.76B', '720M', '15.1B', '64.8B', '91.6B', '25.1B']\n"
   ]
  },
  {
   "cell_type": "code",
   "execution_count": 9,
   "metadata": {},
   "outputs": [],
   "source": [
    "# deaths for each hurricane\n",
    "deaths = [90,4000,16,3103,179,184,408,682,5,1023,43,319,688,259,37,11,2068,269,318,107,65,19325,51,124,17,1836,125,87,45,133,603,138,3057,74]\n"
   ]
  },
  {
   "cell_type": "code",
   "execution_count": 51,
   "metadata": {},
   "outputs": [
    {
     "name": "stdout",
     "output_type": "stream",
     "text": [
      "['0', '100000000', '0', '40000000', '279000000', '5000000', '0', '306000000', '2000000', '658000000', '326000000', '603000000', '208000000', '142000000000', '254000000', '0', '154000000000', '124000000000', '71000000000', '10000000000', '265000000000', '62000000000', '537000000000', '233000000000', '101000000000', '125000000000', '12000000000', '294000000000', '176000000000', '720000000', '151000000000', '648000000000', '916000000000', '251000000000']\n"
     ]
    }
   ],
   "source": [
    "updated_damages = []\n",
    "for item in damages:\n",
    "    updated_damages.append(item.replace('.','').replace('M', '000000').replace('B','000000000').replace('Damages not recorded','0'))\n",
    "print(updated_damages)\n"
   ]
  },
  {
   "cell_type": "code",
   "execution_count": 32,
   "metadata": {},
   "outputs": [],
   "source": [
    "hurricane_names = {}\n",
    "def hurricane_named(names, months, years, max_sustained_winds, areas_affected, updated_damages, deaths):\n",
    "    hurricanes = {}\n",
    "    hurr_length = len(names)\n",
    "    for i in range(hurr_length):\n",
    "        hurricanes[names[i]] = {'Name': names[i], 'Month':months[i], 'Year':years[i], 'Max Winds':max_sustained_winds[i], 'Areas Affected':areas_affected[i], 'Damage':updated_damages[i], 'Deaths':deaths[i]}\n",
    "    return hurricanes"
   ]
  },
  {
   "cell_type": "code",
   "execution_count": 33,
   "metadata": {},
   "outputs": [],
   "source": [
    "hurricane_names = hurricane_named(names, months, years, max_sustained_winds, areas_affected, updated_damages, deaths)\n",
    "#print(hurricane_names)"
   ]
  },
  {
   "cell_type": "code",
   "execution_count": 53,
   "metadata": {},
   "outputs": [],
   "source": [
    "def hurricane_year(hurricanes):\n",
    "    hurricane_year = {}\n",
    "    for i in hurricanes:\n",
    "        current_year = hurricanes[i][\"Year\"]\n",
    "        current_cane = hurricanes[i]\n",
    "        if current_year not in hurricane_year:\n",
    "            hurricane_year[current_year] = [current_cane]\n",
    "        else:\n",
    "            hurricane_year[current_year].append(current_cane)\n",
    "    return hurricane_year\n",
    "hurricanes_by_year = hurricane_year(hurricane_names)\n",
    "#print(hurricanes_by_year)"
   ]
  },
  {
   "cell_type": "code",
   "execution_count": 35,
   "metadata": {},
   "outputs": [],
   "source": [
    "#print(hurricanes_by_year[2017])"
   ]
  },
  {
   "cell_type": "code",
   "execution_count": 36,
   "metadata": {},
   "outputs": [],
   "source": [
    "#from collections import defaultdict\n",
    "#def hurricane_areas_affected(areas_affected):\n",
    "#    areas = defaultdict(int)\n",
    "#    for hurricanes in areas_affected:\n",
    "#        areas[hurricanes] += 1\n",
    "#areas_affected_count = hurricane_areas_affected(areas_affected)"
   ]
  },
  {
   "cell_type": "code",
   "execution_count": 37,
   "metadata": {},
   "outputs": [],
   "source": [
    "def affected_areas_count(hurricane_names):\n",
    "  count_dictionary = {}\n",
    "  lst = []\n",
    "  for key,value in hurricane_names.items():\n",
    "    lst = hurricane_names[key][\"Areas Affected\"]\n",
    "    for location in lst:\n",
    "      if location not in count_dictionary:\n",
    "        count_dictionary[location] = 1\n",
    "      else:\n",
    "        count_dictionary[location] += 1\n",
    "  return(count_dictionary)"
   ]
  },
  {
   "cell_type": "code",
   "execution_count": 38,
   "metadata": {},
   "outputs": [],
   "source": [
    "counted_areas = affected_areas_count(hurricane_names)\n",
    "#print(counted_areas)"
   ]
  },
  {
   "cell_type": "code",
   "execution_count": 39,
   "metadata": {},
   "outputs": [],
   "source": [
    "def most_affected_area(counted_areas):\n",
    "    max_area = ''\n",
    "    max_area_count = 0\n",
    "    for areas in counted_areas:\n",
    "        if max_area_count < counted_areas[areas]:\n",
    "            max_area = areas\n",
    "            max_area_count = counted_areas[areas]\n",
    "    return max_area, max_area_count\n"
   ]
  },
  {
   "cell_type": "code",
   "execution_count": 40,
   "metadata": {},
   "outputs": [],
   "source": [
    "most_affected = most_affected_area(counted_areas)\n",
    "#print(most_affected)"
   ]
  },
  {
   "cell_type": "code",
   "execution_count": 41,
   "metadata": {},
   "outputs": [],
   "source": [
    "def most_ded(hurricane_names):\n",
    "    max_mortality_cane = \"\"\n",
    "    max_mortality = 0\n",
    "    for areas in hurricane_names:\n",
    "        if max_mortality < hurricane_names[areas]['Deaths']:\n",
    "            max_mortality_cane = areas\n",
    "            max_mortality = hurricane_names[areas]['Deaths']\n",
    "    return max_mortality_cane, max_mortality"
   ]
  },
  {
   "cell_type": "code",
   "execution_count": 42,
   "metadata": {},
   "outputs": [],
   "source": [
    "deadliest_cane, numer_of_deaths = most_ded(hurricane_names)\n",
    "#print(deadliest_cane, numer_of_deaths)"
   ]
  },
  {
   "cell_type": "code",
   "execution_count": 43,
   "metadata": {},
   "outputs": [
    {
     "name": "stdout",
     "output_type": "stream",
     "text": [
      "{0: [], 1: ['Cuba I', 'Bahamas', 'Carol', 'Carla', 'Edith', 'Anita', 'Andrew', 'Isabel', 'Emily', 'Wilma', 'Dean', 'Michael'], 2: ['CubaBrownsville', 'Tampico', 'Labor Day', 'Hattie', 'Camille', 'Allen', 'Gilbert', 'Hugo', 'Ivan', 'Rita', 'Felix', 'Irma'], 3: ['New England', 'Beulah', 'Matthew'], 4: ['San Felipe II Okeechobee', 'Cuba II', 'Janet', 'David', 'Mitch', 'Katrina', 'Maria']}\n"
     ]
    }
   ],
   "source": [
    "mortality_scale = {0: 0,\n",
    "                   1: 100,\n",
    "                   2: 500,\n",
    "                   3: 1000,\n",
    "                   4: 10000}\n",
    "def mortality_ratings(mortality_scale, hurricane_names):\n",
    "    mortality_rating = {0:[], 1:[], 2:[], 3:[], 4:[]}\n",
    "    for canes in hurricane_names:\n",
    "        if hurricane_names[canes]['Deaths'] == mortality_scale[0]:\n",
    "            mortality_rating[0].append(hurricane_names[canes]['Name'])\n",
    "        elif hurricane_names[canes]['Deaths'] > mortality_scale[0] and hurricane_names[canes]['Deaths'] <= mortality_scale[1]:\n",
    "            mortality_rating[1].append(hurricane_names[canes]['Name'])\n",
    "        elif hurricane_names[canes]['Deaths'] > mortality_scale[1] and hurricane_names[canes]['Deaths'] <= mortality_scale[2]:\n",
    "            mortality_rating[2].append(hurricane_names[canes]['Name'])\n",
    "        elif hurricane_names[canes]['Deaths'] > mortality_scale[2] and hurricane_names[canes]['Deaths']  <= mortality_scale[3]:\n",
    "            mortality_rating[3].append(hurricane_names[canes]['Name'])\n",
    "        else:\n",
    "            mortality_rating[4].append(hurricane_names[canes]['Name'])\n",
    "    return mortality_rating\n",
    "mortality_rank = mortality_ratings(mortality_scale, hurricane_names)\n",
    "print(mortality_rank)"
   ]
  },
  {
   "cell_type": "code",
   "execution_count": 44,
   "metadata": {},
   "outputs": [
    {
     "name": "stdout",
     "output_type": "stream",
     "text": [
      "Maria 916000000000\n"
     ]
    }
   ],
   "source": [
    "def most_damage(hurricane_names):\n",
    "    max_damage_cane = \"\"\n",
    "    max_damage = 0\n",
    "    for areas in hurricane_names:\n",
    "        if hurricane_names[areas]['Damage'] == 'Damages not recorded':\n",
    "            None\n",
    "        else:\n",
    "            i = int(float(hurricane_names[areas]['Damage']))\n",
    "            if i > max_damage:\n",
    "                max_damage_cane = hurricane_names[areas]['Name']\n",
    "                max_damage = int(float(hurricane_names[areas]['Damage']))\n",
    "    return max_damage_cane, max_damage\n",
    "greatest_damage_cane, damage_cost = most_damage(hurricane_names)\n",
    "print(greatest_damage_cane, damage_cost)"
   ]
  },
  {
   "cell_type": "code",
   "execution_count": 45,
   "metadata": {},
   "outputs": [
    {
     "ename": "TypeError",
     "evalue": "'int' object is not subscriptable",
     "output_type": "error",
     "traceback": [
      "\u001b[1;31m---------------------------------------------------------------------------\u001b[0m",
      "\u001b[1;31mTypeError\u001b[0m                                 Traceback (most recent call last)",
      "\u001b[1;32m<ipython-input-45-6050e237b9c7>\u001b[0m in \u001b[0;36m<module>\u001b[1;34m\u001b[0m\n\u001b[0;32m     22\u001b[0m     \u001b[1;32mreturn\u001b[0m \u001b[0mhurricanes_by_damage\u001b[0m\u001b[1;33m\u001b[0m\u001b[1;33m\u001b[0m\u001b[0m\n\u001b[0;32m     23\u001b[0m \u001b[1;33m\u001b[0m\u001b[0m\n\u001b[1;32m---> 24\u001b[1;33m \u001b[0mhurricane_damage_scale\u001b[0m \u001b[1;33m=\u001b[0m \u001b[0mcane_damage_scale\u001b[0m\u001b[1;33m(\u001b[0m\u001b[0mdamage_scale\u001b[0m\u001b[1;33m,\u001b[0m \u001b[0mhurricane_names\u001b[0m\u001b[1;33m)\u001b[0m\u001b[1;33m\u001b[0m\u001b[1;33m\u001b[0m\u001b[0m\n\u001b[0m\u001b[0;32m     25\u001b[0m \u001b[1;33m\u001b[0m\u001b[0m\n",
      "\u001b[1;32m<ipython-input-45-6050e237b9c7>\u001b[0m in \u001b[0;36mcane_damage_scale\u001b[1;34m(hurricane_names, damage_scale)\u001b[0m\n\u001b[0;32m      8\u001b[0m     \u001b[1;32mfor\u001b[0m \u001b[0mcane\u001b[0m \u001b[1;32min\u001b[0m \u001b[0mhurricane_names\u001b[0m\u001b[1;33m:\u001b[0m\u001b[1;33m\u001b[0m\u001b[1;33m\u001b[0m\u001b[0m\n\u001b[0;32m      9\u001b[0m         \u001b[0mhurricanes_by_damage\u001b[0m \u001b[1;33m=\u001b[0m \u001b[1;33m{\u001b[0m\u001b[1;36m0\u001b[0m\u001b[1;33m:\u001b[0m\u001b[1;33m[\u001b[0m\u001b[1;33m]\u001b[0m\u001b[1;33m,\u001b[0m\u001b[1;36m1\u001b[0m\u001b[1;33m:\u001b[0m\u001b[1;33m[\u001b[0m\u001b[1;33m]\u001b[0m\u001b[1;33m,\u001b[0m\u001b[1;36m2\u001b[0m\u001b[1;33m:\u001b[0m\u001b[1;33m[\u001b[0m\u001b[1;33m]\u001b[0m\u001b[1;33m,\u001b[0m\u001b[1;36m3\u001b[0m\u001b[1;33m:\u001b[0m\u001b[1;33m[\u001b[0m\u001b[1;33m]\u001b[0m\u001b[1;33m,\u001b[0m\u001b[1;36m4\u001b[0m\u001b[1;33m:\u001b[0m\u001b[1;33m[\u001b[0m\u001b[1;33m]\u001b[0m\u001b[1;33m,\u001b[0m\u001b[1;36m5\u001b[0m\u001b[1;33m:\u001b[0m\u001b[1;33m[\u001b[0m\u001b[1;33m]\u001b[0m\u001b[1;33m}\u001b[0m\u001b[1;33m\u001b[0m\u001b[1;33m\u001b[0m\u001b[0m\n\u001b[1;32m---> 10\u001b[1;33m         \u001b[1;32mif\u001b[0m \u001b[0mhurricane_names\u001b[0m\u001b[1;33m[\u001b[0m\u001b[0mcane\u001b[0m\u001b[1;33m]\u001b[0m\u001b[1;33m[\u001b[0m\u001b[1;34m'Damage'\u001b[0m\u001b[1;33m]\u001b[0m \u001b[1;33m==\u001b[0m \u001b[1;34m'Damages not recorded'\u001b[0m\u001b[1;33m:\u001b[0m\u001b[1;33m\u001b[0m\u001b[1;33m\u001b[0m\u001b[0m\n\u001b[0m\u001b[0;32m     11\u001b[0m             \u001b[0mhurricane_names\u001b[0m\u001b[1;33m[\u001b[0m\u001b[0mcane\u001b[0m\u001b[1;33m]\u001b[0m\u001b[1;33m[\u001b[0m\u001b[1;34m'Damage'\u001b[0m\u001b[1;33m]\u001b[0m \u001b[1;33m=\u001b[0m \u001b[1;36m0\u001b[0m\u001b[1;33m\u001b[0m\u001b[1;33m\u001b[0m\u001b[0m\n\u001b[0;32m     12\u001b[0m         \u001b[1;32mif\u001b[0m \u001b[0mhurricane_names\u001b[0m\u001b[1;33m[\u001b[0m\u001b[0mcane\u001b[0m\u001b[1;33m]\u001b[0m\u001b[1;33m[\u001b[0m\u001b[1;34m'Damage'\u001b[0m\u001b[1;33m]\u001b[0m \u001b[1;33m==\u001b[0m \u001b[1;36m0\u001b[0m\u001b[1;33m:\u001b[0m\u001b[1;33m\u001b[0m\u001b[1;33m\u001b[0m\u001b[0m\n",
      "\u001b[1;31mTypeError\u001b[0m: 'int' object is not subscriptable"
     ]
    }
   ],
   "source": [
    "#Q10 Attempt 1\n",
    "damage_scale = {0: 0,\n",
    "                1: 100000000,\n",
    "                2: 1000000000,\n",
    "                3: 10000000000,\n",
    "                4: 50000000000}\n",
    "def cane_damage_scale(hurricane_names, damage_scale):\n",
    "    for cane in hurricane_names:\n",
    "        hurricanes_by_damage = {0:[],1:[],2:[],3:[],4:[],5:[]}\n",
    "        if hurricane_names[cane]['Damage'] == 'Damages not recorded':\n",
    "            hurricane_names[cane]['Damage'] = 0\n",
    "        if hurricane_names[cane]['Damage'] == 0:\n",
    "            hurricanes_by_damage[0].append(hurricanes_names[cane]['Damage'])\n",
    "        elif hurricane_names[cane]['Damage'] > damage_scale[0] and hurricane_names[cane]['Damage'] <= damage_scale[1]:\n",
    "            hurricanes_by_damage[1].append(hurricane_names[cane]['Damage'])\n",
    "        elif hurricane_names[cane]['Damage'] > damage_scale[1] and hurricane_names[cane]['Damage'] <= damage_scale[2]:\n",
    "            hurricanes_by_damage[2].append(hurricane_names[cane]['Damage'])\n",
    "        elif hurricane_names[cane]['Damage'] > damage_scale[2] and hurricane_names[cane]['Damage'] <= damage_scale[3]:\n",
    "            hurricanes_by_damage[3].append(hurricane_names[cane]['Damage'])\n",
    "        else:\n",
    "            hurricanes_by_damage[4].append(hurricane_names[cane]['Damage'])\n",
    "    return hurricanes_by_damage\n",
    "\n",
    "hurricane_damage_scale = cane_damage_scale(damage_scale, hurricane_names)\n",
    " "
   ]
  },
  {
   "cell_type": "code",
   "execution_count": 46,
   "metadata": {},
   "outputs": [
    {
     "ename": "TypeError",
     "evalue": "'<' not supported between instances of 'str' and 'int'",
     "output_type": "error",
     "traceback": [
      "\u001b[1;31m---------------------------------------------------------------------------\u001b[0m",
      "\u001b[1;31mTypeError\u001b[0m                                 Traceback (most recent call last)",
      "\u001b[1;32m<ipython-input-46-e42e01203ec1>\u001b[0m in \u001b[0;36m<module>\u001b[1;34m\u001b[0m\n\u001b[0;32m     29\u001b[0m     \u001b[1;32mreturn\u001b[0m \u001b[0mdamage_scale\u001b[0m\u001b[1;33m\u001b[0m\u001b[1;33m\u001b[0m\u001b[0m\n\u001b[0;32m     30\u001b[0m \u001b[1;33m\u001b[0m\u001b[0m\n\u001b[1;32m---> 31\u001b[1;33m \u001b[0mdamage_scale\u001b[0m \u001b[1;33m=\u001b[0m \u001b[0mdamage_scaled\u001b[0m\u001b[1;33m(\u001b[0m\u001b[0mhurricane_names\u001b[0m\u001b[1;33m)\u001b[0m\u001b[1;33m\u001b[0m\u001b[1;33m\u001b[0m\u001b[0m\n\u001b[0m\u001b[0;32m     32\u001b[0m \u001b[0mprint\u001b[0m\u001b[1;33m(\u001b[0m\u001b[0mdamage_scale\u001b[0m\u001b[1;33m)\u001b[0m\u001b[1;33m\u001b[0m\u001b[1;33m\u001b[0m\u001b[0m\n",
      "\u001b[1;32m<ipython-input-46-e42e01203ec1>\u001b[0m in \u001b[0;36mdamage_scaled\u001b[1;34m(hurricane_names)\u001b[0m\n\u001b[0;32m     11\u001b[0m         \u001b[1;32mif\u001b[0m \u001b[0mdamage\u001b[0m \u001b[1;33m==\u001b[0m \u001b[1;34m'Damages not recorded'\u001b[0m\u001b[1;33m:\u001b[0m\u001b[1;33m\u001b[0m\u001b[1;33m\u001b[0m\u001b[0m\n\u001b[0;32m     12\u001b[0m             \u001b[1;32mcontinue\u001b[0m\u001b[1;33m\u001b[0m\u001b[1;33m\u001b[0m\u001b[0m\n\u001b[1;32m---> 13\u001b[1;33m         \u001b[1;32melif\u001b[0m \u001b[0mdamage\u001b[0m \u001b[1;33m<\u001b[0m \u001b[1;36m100000000\u001b[0m\u001b[1;33m:\u001b[0m\u001b[1;33m\u001b[0m\u001b[1;33m\u001b[0m\u001b[0m\n\u001b[0m\u001b[0;32m     14\u001b[0m             \u001b[0mrate\u001b[0m \u001b[1;33m=\u001b[0m \u001b[1;36m0\u001b[0m\u001b[1;33m\u001b[0m\u001b[1;33m\u001b[0m\u001b[0m\n\u001b[0;32m     15\u001b[0m         \u001b[1;32melif\u001b[0m \u001b[0mdamage\u001b[0m \u001b[1;33m>=\u001b[0m \u001b[1;36m100000000\u001b[0m \u001b[1;32mand\u001b[0m \u001b[0mdamage\u001b[0m \u001b[1;33m<\u001b[0m \u001b[1;36m1000000000\u001b[0m\u001b[1;33m:\u001b[0m\u001b[1;33m\u001b[0m\u001b[1;33m\u001b[0m\u001b[0m\n",
      "\u001b[1;31mTypeError\u001b[0m: '<' not supported between instances of 'str' and 'int'"
     ]
    }
   ],
   "source": [
    "#Q10 Attempt 2\n",
    "def damage_scaled(hurricane_names):\n",
    "\n",
    "    damage_scale = {0: [], 1: [], 2: [], 3: [], 4: []}\n",
    "\n",
    "    for hurricane in hurricane_names:\n",
    "\n",
    "        rate = 0\n",
    "        damage = hurricane_names[hurricane]['Damage']\n",
    "\n",
    "        if damage == 'Damages not recorded':\n",
    "            continue\n",
    "        elif damage < 100000000:\n",
    "            rate = 0\n",
    "        elif damage >= 100000000 and damage < 1000000000:\n",
    "            rate = 1\n",
    "        elif damage >= 1000000000 and damage < 10000000000:\n",
    "            rate = 2\n",
    "        elif damage >= 10000000000 and damage < 50000000000:\n",
    "            rate = 3\n",
    "        else:\n",
    "            rate = 4\n",
    "\n",
    "        if rate not in damage_scale:\n",
    "            damage_scale[rate] = hurricane_names[hurricane]\n",
    "        else:\n",
    "            damage_scale[rate].append(hurricane_names[hurricane])\n",
    "\n",
    "    return damage_scale\n",
    "\n",
    "damage_scale = damage_scaled(hurricane_names)\n",
    "print(damage_scale)\n"
   ]
  },
  {
   "cell_type": "code",
   "execution_count": 50,
   "metadata": {},
   "outputs": [
    {
     "ename": "TypeError",
     "evalue": "'<' not supported between instances of 'int' and 'str'",
     "output_type": "error",
     "traceback": [
      "\u001b[1;31m---------------------------------------------------------------------------\u001b[0m",
      "\u001b[1;31mTypeError\u001b[0m                                 Traceback (most recent call last)",
      "\u001b[1;32m<ipython-input-50-e36bbedc71c8>\u001b[0m in \u001b[0;36m<module>\u001b[1;34m\u001b[0m\n\u001b[0;32m     23\u001b[0m \u001b[1;33m\u001b[0m\u001b[0m\n\u001b[0;32m     24\u001b[0m \u001b[1;33m\u001b[0m\u001b[0m\n\u001b[1;32m---> 25\u001b[1;33m \u001b[0mprint\u001b[0m\u001b[1;33m(\u001b[0m\u001b[0mcategorise_by_damage\u001b[0m\u001b[1;33m(\u001b[0m\u001b[0mhurricane_names\u001b[0m\u001b[1;33m)\u001b[0m\u001b[1;33m)\u001b[0m\u001b[1;33m\u001b[0m\u001b[1;33m\u001b[0m\u001b[0m\n\u001b[0m",
      "\u001b[1;32m<ipython-input-50-e36bbedc71c8>\u001b[0m in \u001b[0;36mcategorise_by_damage\u001b[1;34m(hurricane_names)\u001b[0m\n\u001b[0;32m     10\u001b[0m \u001b[1;33m\u001b[0m\u001b[0m\n\u001b[0;32m     11\u001b[0m     \u001b[1;32mfor\u001b[0m \u001b[0mname\u001b[0m \u001b[1;32min\u001b[0m \u001b[0mhurricane_names\u001b[0m\u001b[1;33m:\u001b[0m\u001b[1;33m\u001b[0m\u001b[1;33m\u001b[0m\u001b[0m\n\u001b[1;32m---> 12\u001b[1;33m         \u001b[1;32mif\u001b[0m \u001b[0mdamage_scale\u001b[0m\u001b[1;33m[\u001b[0m\u001b[1;36m0\u001b[0m\u001b[1;33m]\u001b[0m \u001b[1;33m<\u001b[0m \u001b[0mhurricane_names\u001b[0m\u001b[1;33m[\u001b[0m\u001b[0mname\u001b[0m\u001b[1;33m]\u001b[0m\u001b[1;33m[\u001b[0m\u001b[1;34m'Damage'\u001b[0m\u001b[1;33m]\u001b[0m \u001b[1;33m<=\u001b[0m \u001b[0mdamage_scale\u001b[0m\u001b[1;33m[\u001b[0m\u001b[1;36m1\u001b[0m\u001b[1;33m]\u001b[0m\u001b[1;33m:\u001b[0m\u001b[1;33m\u001b[0m\u001b[1;33m\u001b[0m\u001b[0m\n\u001b[0m\u001b[0;32m     13\u001b[0m             \u001b[0mdamage_scale_hurricane\u001b[0m\u001b[1;33m[\u001b[0m\u001b[1;36m1\u001b[0m\u001b[1;33m]\u001b[0m\u001b[1;33m.\u001b[0m\u001b[0mappend\u001b[0m\u001b[1;33m(\u001b[0m\u001b[0mname\u001b[0m\u001b[1;33m)\u001b[0m\u001b[1;33m\u001b[0m\u001b[1;33m\u001b[0m\u001b[0m\n\u001b[0;32m     14\u001b[0m         \u001b[1;32melif\u001b[0m \u001b[0mdamage_scale\u001b[0m\u001b[1;33m[\u001b[0m\u001b[1;36m1\u001b[0m\u001b[1;33m]\u001b[0m \u001b[1;33m<\u001b[0m \u001b[0mhurricane_names\u001b[0m\u001b[1;33m[\u001b[0m\u001b[0mname\u001b[0m\u001b[1;33m]\u001b[0m\u001b[1;33m[\u001b[0m\u001b[1;34m'Damage'\u001b[0m\u001b[1;33m]\u001b[0m \u001b[1;33m<=\u001b[0m \u001b[0mdamage_scale\u001b[0m\u001b[1;33m[\u001b[0m\u001b[1;36m2\u001b[0m\u001b[1;33m]\u001b[0m\u001b[1;33m:\u001b[0m\u001b[1;33m\u001b[0m\u001b[1;33m\u001b[0m\u001b[0m\n",
      "\u001b[1;31mTypeError\u001b[0m: '<' not supported between instances of 'int' and 'str'"
     ]
    }
   ],
   "source": [
    "#Q10 Attempt 3\n",
    "damage_scale_hurricane = {'No Damage': [], 1: [], 2: [], 3: [], 4: [], 5: []}\n",
    "\n",
    "def categorise_by_damage(hurricane_names):\n",
    "    damage_scale = {0: 0,\n",
    "                    1: 100000000,\n",
    "                    2: 1000000000,\n",
    "                    3: 10000000000,\n",
    "                    4: 50000000000}\n",
    "\n",
    "    for name in hurricane_names:\n",
    "        if damage_scale[0] < hurricane_names[name]['Damage'] <= damage_scale[1]:\n",
    "            damage_scale_hurricane[1].append(name)\n",
    "        elif damage_scale[1] < hurricane_names[name]['Damage'] <= damage_scale[2]:\n",
    "            damage_scale_hurricane[2].append(name)\n",
    "        elif damage_scale[2] < hurricane_names[name]['Damage'] <= damage_scale[3]:\n",
    "            damage_scale_hurricane[3].append(name)\n",
    "        elif damage_scale[3] < hurricane_names[name]['Damage'] <= damage_scale[4]:\n",
    "            damage_scale_hurricane[4].append(name)\n",
    "        else:\n",
    "            damage_scale_hurricane[5].append(name)\n",
    "    return damage_scale_hurricane\n",
    "\n",
    "\n",
    "print(categorise_by_damage(hurricane_names))"
   ]
  },
  {
   "cell_type": "code",
   "execution_count": 54,
   "metadata": {},
   "outputs": [
    {
     "ename": "TypeError",
     "evalue": "'>' not supported between instances of 'str' and 'int'",
     "output_type": "error",
     "traceback": [
      "\u001b[1;31m---------------------------------------------------------------------------\u001b[0m",
      "\u001b[1;31mTypeError\u001b[0m                                 Traceback (most recent call last)",
      "\u001b[1;32m<ipython-input-54-d26e6b90f9e8>\u001b[0m in \u001b[0;36m<module>\u001b[1;34m\u001b[0m\n\u001b[0;32m     27\u001b[0m \u001b[1;33m\u001b[0m\u001b[0m\n\u001b[0;32m     28\u001b[0m \u001b[1;33m\u001b[0m\u001b[0m\n\u001b[1;32m---> 29\u001b[1;33m \u001b[0mprint\u001b[0m\u001b[1;33m(\u001b[0m\u001b[0mcategorise_by_damage\u001b[0m\u001b[1;33m(\u001b[0m\u001b[0mhurricane_names\u001b[0m\u001b[1;33m)\u001b[0m\u001b[1;33m)\u001b[0m\u001b[1;33m\u001b[0m\u001b[1;33m\u001b[0m\u001b[0m\n\u001b[0m",
      "\u001b[1;32m<ipython-input-54-d26e6b90f9e8>\u001b[0m in \u001b[0;36mcategorise_by_damage\u001b[1;34m(hurricane_names)\u001b[0m\n\u001b[0;32m     14\u001b[0m         \u001b[1;32melif\u001b[0m \u001b[0mtotal_damage\u001b[0m \u001b[1;33m==\u001b[0m \u001b[0mdamage_scale\u001b[0m\u001b[1;33m[\u001b[0m\u001b[1;36m0\u001b[0m\u001b[1;33m]\u001b[0m\u001b[1;33m:\u001b[0m\u001b[1;33m\u001b[0m\u001b[1;33m\u001b[0m\u001b[0m\n\u001b[0;32m     15\u001b[0m             \u001b[0mhurricanes_by_damage\u001b[0m\u001b[1;33m[\u001b[0m\u001b[1;36m0\u001b[0m\u001b[1;33m]\u001b[0m\u001b[1;33m.\u001b[0m\u001b[0mappend\u001b[0m\u001b[1;33m(\u001b[0m\u001b[0mhurricane_names\u001b[0m\u001b[1;33m[\u001b[0m\u001b[0mname\u001b[0m\u001b[1;33m]\u001b[0m\u001b[1;33m)\u001b[0m\u001b[1;33m\u001b[0m\u001b[1;33m\u001b[0m\u001b[0m\n\u001b[1;32m---> 16\u001b[1;33m         \u001b[1;32melif\u001b[0m \u001b[0mtotal_damage\u001b[0m \u001b[1;33m>\u001b[0m \u001b[0mdamage_scale\u001b[0m\u001b[1;33m[\u001b[0m\u001b[1;36m0\u001b[0m\u001b[1;33m]\u001b[0m \u001b[1;32mand\u001b[0m \u001b[0mtotal_damage\u001b[0m \u001b[1;33m<=\u001b[0m \u001b[0mdamage_scale\u001b[0m\u001b[1;33m[\u001b[0m\u001b[1;36m1\u001b[0m\u001b[1;33m]\u001b[0m\u001b[1;33m:\u001b[0m\u001b[1;33m\u001b[0m\u001b[1;33m\u001b[0m\u001b[0m\n\u001b[0m\u001b[0;32m     17\u001b[0m             \u001b[0mhurricanes_by_damage\u001b[0m\u001b[1;33m[\u001b[0m\u001b[1;36m1\u001b[0m\u001b[1;33m]\u001b[0m\u001b[1;33m.\u001b[0m\u001b[0mappend\u001b[0m\u001b[1;33m(\u001b[0m\u001b[0mhurricane_names\u001b[0m\u001b[1;33m[\u001b[0m\u001b[0mname\u001b[0m\u001b[1;33m]\u001b[0m\u001b[1;33m)\u001b[0m\u001b[1;33m\u001b[0m\u001b[1;33m\u001b[0m\u001b[0m\n\u001b[0;32m     18\u001b[0m         \u001b[1;32melif\u001b[0m \u001b[0mtotal_damage\u001b[0m \u001b[1;33m>\u001b[0m \u001b[0mdamage_scale\u001b[0m\u001b[1;33m[\u001b[0m\u001b[1;36m1\u001b[0m\u001b[1;33m]\u001b[0m \u001b[1;32mand\u001b[0m \u001b[0mtotal_damage\u001b[0m \u001b[1;33m<=\u001b[0m \u001b[0mdamage_scale\u001b[0m\u001b[1;33m[\u001b[0m\u001b[1;36m2\u001b[0m\u001b[1;33m]\u001b[0m\u001b[1;33m:\u001b[0m\u001b[1;33m\u001b[0m\u001b[1;33m\u001b[0m\u001b[0m\n",
      "\u001b[1;31mTypeError\u001b[0m: '>' not supported between instances of 'str' and 'int'"
     ]
    }
   ],
   "source": [
    "#Q10 Attempt 4\n",
    "def categorise_by_damage(hurricane_names):\n",
    "    damage_scale = {0: 0,\n",
    "                    1: 100000000,\n",
    "                    2: 1000000000,\n",
    "                    3: 10000000000,\n",
    "                    4: 50000000000}\n",
    "    damage_scale_hurricane = {0: [], 1: [], 2: [], 3: [], 4: [], 5: []}\n",
    "    for name in hurricane_names:\n",
    "        total_damage = hurricane_names[name]['Damage']\n",
    "      \n",
    "        if total_damage == damage_scale[0]:\n",
    "            hurricanes_by_damage[0].append(hurricane_names[name])\n",
    "        elif total_damage == damage_scale[0]:\n",
    "            hurricanes_by_damage[0].append(hurricane_names[name])\n",
    "        elif total_damage > damage_scale[0] and total_damage <= damage_scale[1]:\n",
    "            hurricanes_by_damage[1].append(hurricane_names[name])\n",
    "        elif total_damage > damage_scale[1] and total_damage <= damage_scale[2]:\n",
    "            hurricanes_by_damage[2].append(hurricane_names[name])\n",
    "        elif total_damage > damage_scale[2] and total_damage <= damage_scale[3]:\n",
    "            hurricanes_by_damage[3].append(hurricane_names[name])\n",
    "        elif total_damage > damage_scale[3] and total_damage <= damage_scale[4]:\n",
    "            hurricanes_by_damage[4].append(hurricane_names[name])\n",
    "        elif total_damage > damage_scale[4]:\n",
    "            hurricanes_by_damage[5].append(hurricane_names[name])\n",
    "    return hurricanes_by_damage\n",
    "\n",
    "\n",
    "print(categorise_by_damage(hurricane_names))"
   ]
  },
  {
   "cell_type": "code",
   "execution_count": null,
   "metadata": {},
   "outputs": [],
   "source": []
  }
 ],
 "metadata": {
  "kernelspec": {
   "display_name": "Python 3",
   "language": "python",
   "name": "python3"
  },
  "language_info": {
   "codemirror_mode": {
    "name": "ipython",
    "version": 3
   },
   "file_extension": ".py",
   "mimetype": "text/x-python",
   "name": "python",
   "nbconvert_exporter": "python",
   "pygments_lexer": "ipython3",
   "version": "3.8.5"
  }
 },
 "nbformat": 4,
 "nbformat_minor": 4
}
